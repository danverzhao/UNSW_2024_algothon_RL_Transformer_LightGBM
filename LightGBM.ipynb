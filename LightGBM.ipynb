{
 "cells": [
  {
   "cell_type": "code",
   "execution_count": 36,
   "metadata": {},
   "outputs": [],
   "source": [
    "import pandas as pd\n",
    "import numpy as np\n",
    "from sklearn.model_selection import train_test_split\n",
    "from sklearn.preprocessing import StandardScaler\n",
    "import lightgbm as lgb\n",
    "from sklearn.metrics import mean_squared_error, mean_absolute_error, r2_score\n",
    "import joblib\n",
    "import warnings"
   ]
  },
  {
   "cell_type": "code",
   "execution_count": 2,
   "metadata": {},
   "outputs": [],
   "source": [
    "# Suppress warnings\n",
    "warnings.filterwarnings('ignore')"
   ]
  },
  {
   "cell_type": "code",
   "execution_count": 4,
   "metadata": {},
   "outputs": [
    {
     "data": {
      "text/html": [
       "<div>\n",
       "<style scoped>\n",
       "    .dataframe tbody tr th:only-of-type {\n",
       "        vertical-align: middle;\n",
       "    }\n",
       "\n",
       "    .dataframe tbody tr th {\n",
       "        vertical-align: top;\n",
       "    }\n",
       "\n",
       "    .dataframe thead th {\n",
       "        text-align: right;\n",
       "    }\n",
       "</style>\n",
       "<table border=\"1\" class=\"dataframe\">\n",
       "  <thead>\n",
       "    <tr style=\"text-align: right;\">\n",
       "      <th></th>\n",
       "      <th>Stock_1</th>\n",
       "      <th>Stock_2</th>\n",
       "      <th>Stock_3</th>\n",
       "      <th>Stock_4</th>\n",
       "      <th>Stock_5</th>\n",
       "      <th>Stock_6</th>\n",
       "      <th>Stock_7</th>\n",
       "      <th>Stock_8</th>\n",
       "      <th>Stock_9</th>\n",
       "      <th>Stock_10</th>\n",
       "      <th>...</th>\n",
       "      <th>Stock_50_SMA10</th>\n",
       "      <th>Stock_50_EMA20</th>\n",
       "      <th>Stock_50_EMA50</th>\n",
       "      <th>Stock_50_EMA10</th>\n",
       "      <th>Stock_50_RSI14</th>\n",
       "      <th>Stock_50_BB_middle</th>\n",
       "      <th>Stock_50_BB_upper</th>\n",
       "      <th>Stock_50_BB_lower</th>\n",
       "      <th>Stock_50_MACD</th>\n",
       "      <th>Stock_50_MACD_signal</th>\n",
       "    </tr>\n",
       "  </thead>\n",
       "  <tbody>\n",
       "    <tr>\n",
       "      <th>0</th>\n",
       "      <td>13.46</td>\n",
       "      <td>71.65</td>\n",
       "      <td>48.46</td>\n",
       "      <td>50.52</td>\n",
       "      <td>52.10</td>\n",
       "      <td>13.00</td>\n",
       "      <td>18.98</td>\n",
       "      <td>47.71</td>\n",
       "      <td>69.49</td>\n",
       "      <td>49.96</td>\n",
       "      <td>...</td>\n",
       "      <td>0.0</td>\n",
       "      <td>56.09</td>\n",
       "      <td>56.09</td>\n",
       "      <td>56.09</td>\n",
       "      <td>0.0</td>\n",
       "      <td>0.0</td>\n",
       "      <td>0.0</td>\n",
       "      <td>0.0</td>\n",
       "      <td>0.00</td>\n",
       "      <td>0.00</td>\n",
       "    </tr>\n",
       "    <tr>\n",
       "      <th>1</th>\n",
       "      <td>13.48</td>\n",
       "      <td>72.10</td>\n",
       "      <td>48.52</td>\n",
       "      <td>50.50</td>\n",
       "      <td>52.06</td>\n",
       "      <td>12.95</td>\n",
       "      <td>18.95</td>\n",
       "      <td>47.84</td>\n",
       "      <td>69.73</td>\n",
       "      <td>49.93</td>\n",
       "      <td>...</td>\n",
       "      <td>0.0</td>\n",
       "      <td>56.09</td>\n",
       "      <td>56.09</td>\n",
       "      <td>56.09</td>\n",
       "      <td>0.0</td>\n",
       "      <td>0.0</td>\n",
       "      <td>0.0</td>\n",
       "      <td>0.0</td>\n",
       "      <td>-0.00</td>\n",
       "      <td>-0.00</td>\n",
       "    </tr>\n",
       "    <tr>\n",
       "      <th>2</th>\n",
       "      <td>13.47</td>\n",
       "      <td>72.35</td>\n",
       "      <td>48.48</td>\n",
       "      <td>50.62</td>\n",
       "      <td>51.80</td>\n",
       "      <td>12.79</td>\n",
       "      <td>18.98</td>\n",
       "      <td>47.98</td>\n",
       "      <td>69.60</td>\n",
       "      <td>49.33</td>\n",
       "      <td>...</td>\n",
       "      <td>0.0</td>\n",
       "      <td>56.07</td>\n",
       "      <td>56.08</td>\n",
       "      <td>56.05</td>\n",
       "      <td>0.0</td>\n",
       "      <td>0.0</td>\n",
       "      <td>0.0</td>\n",
       "      <td>0.0</td>\n",
       "      <td>-0.02</td>\n",
       "      <td>-0.00</td>\n",
       "    </tr>\n",
       "    <tr>\n",
       "      <th>3</th>\n",
       "      <td>13.53</td>\n",
       "      <td>72.51</td>\n",
       "      <td>48.42</td>\n",
       "      <td>50.75</td>\n",
       "      <td>51.66</td>\n",
       "      <td>12.66</td>\n",
       "      <td>18.96</td>\n",
       "      <td>48.74</td>\n",
       "      <td>69.54</td>\n",
       "      <td>49.67</td>\n",
       "      <td>...</td>\n",
       "      <td>0.0</td>\n",
       "      <td>56.08</td>\n",
       "      <td>56.08</td>\n",
       "      <td>56.07</td>\n",
       "      <td>0.0</td>\n",
       "      <td>0.0</td>\n",
       "      <td>0.0</td>\n",
       "      <td>0.0</td>\n",
       "      <td>-0.01</td>\n",
       "      <td>-0.00</td>\n",
       "    </tr>\n",
       "    <tr>\n",
       "      <th>4</th>\n",
       "      <td>13.64</td>\n",
       "      <td>71.99</td>\n",
       "      <td>48.40</td>\n",
       "      <td>50.65</td>\n",
       "      <td>51.97</td>\n",
       "      <td>12.62</td>\n",
       "      <td>18.89</td>\n",
       "      <td>48.88</td>\n",
       "      <td>69.68</td>\n",
       "      <td>49.46</td>\n",
       "      <td>...</td>\n",
       "      <td>0.0</td>\n",
       "      <td>56.06</td>\n",
       "      <td>56.08</td>\n",
       "      <td>56.04</td>\n",
       "      <td>0.0</td>\n",
       "      <td>0.0</td>\n",
       "      <td>0.0</td>\n",
       "      <td>0.0</td>\n",
       "      <td>-0.02</td>\n",
       "      <td>-0.01</td>\n",
       "    </tr>\n",
       "  </tbody>\n",
       "</table>\n",
       "<p>5 rows × 650 columns</p>\n",
       "</div>"
      ],
      "text/plain": [
       "   Stock_1  Stock_2  Stock_3  Stock_4  Stock_5  Stock_6  Stock_7  Stock_8  \\\n",
       "0    13.46    71.65    48.46    50.52    52.10    13.00    18.98    47.71   \n",
       "1    13.48    72.10    48.52    50.50    52.06    12.95    18.95    47.84   \n",
       "2    13.47    72.35    48.48    50.62    51.80    12.79    18.98    47.98   \n",
       "3    13.53    72.51    48.42    50.75    51.66    12.66    18.96    48.74   \n",
       "4    13.64    71.99    48.40    50.65    51.97    12.62    18.89    48.88   \n",
       "\n",
       "   Stock_9  Stock_10  ...  Stock_50_SMA10  Stock_50_EMA20  Stock_50_EMA50  \\\n",
       "0    69.49     49.96  ...             0.0           56.09           56.09   \n",
       "1    69.73     49.93  ...             0.0           56.09           56.09   \n",
       "2    69.60     49.33  ...             0.0           56.07           56.08   \n",
       "3    69.54     49.67  ...             0.0           56.08           56.08   \n",
       "4    69.68     49.46  ...             0.0           56.06           56.08   \n",
       "\n",
       "   Stock_50_EMA10  Stock_50_RSI14  Stock_50_BB_middle  Stock_50_BB_upper  \\\n",
       "0           56.09             0.0                 0.0                0.0   \n",
       "1           56.09             0.0                 0.0                0.0   \n",
       "2           56.05             0.0                 0.0                0.0   \n",
       "3           56.07             0.0                 0.0                0.0   \n",
       "4           56.04             0.0                 0.0                0.0   \n",
       "\n",
       "   Stock_50_BB_lower  Stock_50_MACD  Stock_50_MACD_signal  \n",
       "0                0.0           0.00                  0.00  \n",
       "1                0.0          -0.00                 -0.00  \n",
       "2                0.0          -0.02                 -0.00  \n",
       "3                0.0          -0.01                 -0.00  \n",
       "4                0.0          -0.02                 -0.01  \n",
       "\n",
       "[5 rows x 650 columns]"
      ]
     },
     "execution_count": 4,
     "metadata": {},
     "output_type": "execute_result"
    }
   ],
   "source": [
    "df = pd.read_csv('stock_data_with_indicators.csv')\n",
    "df.head(5)"
   ]
  },
  {
   "cell_type": "code",
   "execution_count": 11,
   "metadata": {},
   "outputs": [
    {
     "name": "stdout",
     "output_type": "stream",
     "text": [
      "    Stock_49  Stock_50  Stock_1_SMA20  Stock_1_SMA50  Stock_1_SMA10  \\\n",
      "46     43.36     56.81          13.34           0.00          13.21   \n",
      "47     43.01     57.13          13.32           0.00          13.18   \n",
      "48     43.28     57.16          13.30           0.00          13.17   \n",
      "49     43.47     57.12          13.28          13.47          13.15   \n",
      "50     43.47     57.23          13.26          13.47          13.14   \n",
      "51     43.63     56.86          13.24          13.46          13.12   \n",
      "\n",
      "    Stock_1_EMA20  Stock_1_EMA50  \n",
      "46          13.31          13.42  \n",
      "47          13.29          13.41  \n",
      "48          13.28          13.40  \n",
      "49          13.26          13.39  \n",
      "50          13.24          13.37  \n",
      "51          13.22          13.36  \n"
     ]
    }
   ],
   "source": [
    "print(df.iloc[46:52, 48:55])"
   ]
  },
  {
   "cell_type": "code",
   "execution_count": 20,
   "metadata": {},
   "outputs": [
    {
     "name": "stdout",
     "output_type": "stream",
     "text": [
      "Stock_48         35.41\n",
      "Stock_49         43.47\n",
      "Stock_50         57.12\n",
      "Stock_1_SMA20    13.28\n",
      "Stock_1_SMA50    13.47\n",
      "Name: 49, dtype: float64\n",
      "13.07\n"
     ]
    }
   ],
   "source": [
    "# split df into training and testing\n",
    "training_org_df = df[49:375]\n",
    "testing_org_df = df[375:]\n",
    "print(training_org_df.iloc[0][47:52])\n",
    "print(training_org_df.iloc[0]['Stock_1'])"
   ]
  },
  {
   "cell_type": "code",
   "execution_count": 22,
   "metadata": {},
   "outputs": [],
   "source": [
    "def create_X_Y(df):\n",
    "    X = []\n",
    "    Y = []\n",
    "    for row_id in range(len(df) - 1):\n",
    "        for stock_id in range(1, 51):\n",
    "            stock_columns = [col for col in df.columns if col.startswith(f'Stock_{stock_id}_')]\n",
    "            stock_columns.append(f'Stock_{stock_id}')\n",
    "            x = []\n",
    "            for column_name in stock_columns:\n",
    "                x.append(df.iloc[row_id][column_name])\n",
    "            \n",
    "            X.append(x)\n",
    "            Y.append(df.iloc[row_id + 1][f'Stock_{stock_id}'])\n",
    "        \n",
    "    \n",
    "    X = np.array(X)\n",
    "    Y = np.array(Y)\n",
    "    return X, Y"
   ]
  },
  {
   "cell_type": "code",
   "execution_count": 30,
   "metadata": {},
   "outputs": [
    {
     "name": "stdout",
     "output_type": "stream",
     "text": [
      "(16250, 13)\n",
      "(16250,)\n"
     ]
    }
   ],
   "source": [
    "X_train, Y_train = create_X_Y(training_org_df)\n",
    "\n",
    "print(X_train.shape)\n",
    "print(Y_train.shape)"
   ]
  },
  {
   "cell_type": "code",
   "execution_count": 31,
   "metadata": {},
   "outputs": [
    {
     "name": "stdout",
     "output_type": "stream",
     "text": [
      "[13.28 13.47 13.15 13.26 13.39 13.17 31.18 13.28 13.61 12.96 -0.11 -0.1\n",
      " 13.07]\n",
      "[13.26 13.47 13.14 13.24 13.37 13.16 39.02 13.26 13.57 12.95 -0.11 -0.1\n",
      " 13.1 ]\n",
      "13.1\n"
     ]
    }
   ],
   "source": [
    "print(X_train[0])\n",
    "print(X_train[50])\n",
    "print(Y_train[0])"
   ]
  },
  {
   "cell_type": "code",
   "execution_count": 32,
   "metadata": {},
   "outputs": [
    {
     "name": "stdout",
     "output_type": "stream",
     "text": [
      "(6200, 13)\n",
      "(6200,)\n"
     ]
    }
   ],
   "source": [
    "X_test, Y_test = create_X_Y(testing_org_df)\n",
    "\n",
    "print(X_test.shape)\n",
    "print(Y_test.shape)"
   ]
  },
  {
   "cell_type": "code",
   "execution_count": 35,
   "metadata": {},
   "outputs": [
    {
     "name": "stdout",
     "output_type": "stream",
     "text": [
      "[LightGBM] [Info] Auto-choosing col-wise multi-threading, the overhead of testing was 0.001313 seconds.\n",
      "You can set `force_col_wise=true` to remove the overhead.\n",
      "[LightGBM] [Info] Total Bins 3314\n",
      "[LightGBM] [Info] Number of data points in the train set: 16250, number of used features: 13\n",
      "[LightGBM] [Info] Start training from score 41.243282\n",
      "Mean Squared Error: 0.1479\n",
      "Root Mean Squared Error: 0.3846\n",
      "R-squared Score: 0.9996\n",
      "Mean Absolute Error: 0.2617\n",
      "Column_12: 1713\n",
      "Column_5: 223\n",
      "Column_6: 215\n",
      "Column_11: 151\n",
      "Column_10: 129\n",
      "Column_9: 116\n",
      "Column_4: 113\n",
      "Column_8: 92\n",
      "Column_1: 81\n",
      "Column_2: 66\n",
      "Column_0: 57\n",
      "Column_3: 44\n",
      "Column_7: 0\n"
     ]
    }
   ],
   "source": [
    "# Create dataset for LightGBM\n",
    "train_data = lgb.Dataset(X_train, label=Y_train)\n",
    "\n",
    "# Set parameters for LightGBM\n",
    "params = {\n",
    "    'objective': 'regression',\n",
    "    'metric': 'mse',\n",
    "    'num_leaves': 31,\n",
    "    'learning_rate': 0.05,\n",
    "    'feature_fraction': 0.9\n",
    "}\n",
    "\n",
    "# Train the model\n",
    "model = lgb.train(params, train_data, num_boost_round=100)\n",
    "\n",
    "# Make predictions on test data\n",
    "Y_pred = model.predict(X_test)\n",
    "\n",
    "# Evaluate the model\n",
    "mse = mean_squared_error(Y_test, Y_pred)\n",
    "rmse = np.sqrt(mse)\n",
    "r2 = r2_score(Y_test, Y_pred)\n",
    "mae = mean_absolute_error(Y_test, Y_pred) \n",
    "\n",
    "print(f\"Mean Squared Error: {mse:.4f}\")\n",
    "print(f\"Root Mean Squared Error: {rmse:.4f}\")\n",
    "print(f\"R-squared Score: {r2:.4f}\")\n",
    "print(f\"Mean Absolute Error: {mae:.4f}\")\n",
    "\n",
    "# Feature importance\n",
    "feature_importance = model.feature_importance()\n",
    "feature_names = model.feature_name()\n",
    "\n",
    "for name, importance in sorted(zip(feature_names, feature_importance), key=lambda x: x[1], reverse=True):\n",
    "    print(f\"{name}: {importance}\")"
   ]
  },
  {
   "cell_type": "code",
   "execution_count": 37,
   "metadata": {},
   "outputs": [
    {
     "data": {
      "text/plain": [
       "['lightgbm_model_1stock_and_all_indicators.joblib']"
      ]
     },
     "execution_count": 37,
     "metadata": {},
     "output_type": "execute_result"
    }
   ],
   "source": [
    "model_filename = 'lightgbm_model_1stock_and_all_indicators.joblib'\n",
    "joblib.dump(model, model_filename)"
   ]
  },
  {
   "cell_type": "code",
   "execution_count": null,
   "metadata": {},
   "outputs": [],
   "source": []
  }
 ],
 "metadata": {
  "kernelspec": {
   "display_name": "Python 3",
   "language": "python",
   "name": "python3"
  },
  "language_info": {
   "codemirror_mode": {
    "name": "ipython",
    "version": 3
   },
   "file_extension": ".py",
   "mimetype": "text/x-python",
   "name": "python",
   "nbconvert_exporter": "python",
   "pygments_lexer": "ipython3",
   "version": "3.11.2"
  },
  "orig_nbformat": 4
 },
 "nbformat": 4,
 "nbformat_minor": 2
}
